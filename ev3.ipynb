{
  "nbformat": 4,
  "nbformat_minor": 0,
  "metadata": {
    "colab": {
      "provenance": [],
      "authorship_tag": "ABX9TyPK5iVz6SqEkGABs/qATEby",
      "include_colab_link": true
    },
    "kernelspec": {
      "name": "python3",
      "display_name": "Python 3"
    },
    "language_info": {
      "name": "python"
    }
  },
  "cells": [
    {
      "cell_type": "markdown",
      "metadata": {
        "id": "view-in-github",
        "colab_type": "text"
      },
      "source": [
        "<a href=\"https://colab.research.google.com/github/chaguitomelon123/ev3/blob/main/ev3.ipynb\" target=\"_parent\"><img src=\"https://colab.research.google.com/assets/colab-badge.svg\" alt=\"Open In Colab\"/></a>"
      ]
    },
    {
      "cell_type": "code",
      "execution_count": null,
      "metadata": {
        "id": "scb9x2Z-pBzU"
      },
      "outputs": [],
      "source": [
        "class Persona:\n",
        "def inicializar(self, nombre):\n",
        "Self.nombre = nombre\n",
        "\n",
        "def mostrar(self):\n",
        "print \"Nombre\n",
        "\n",
        "\"Self. nombre)\n",
        "\n",
        "*bloque principal\n",
        "personal = Persona()\n",
        "\n",
        "personal .inicializar(\"Daniel\")\n",
        "personal .mostrar()\n"
      ]
    },
    {
      "cell_type": "code",
      "source": [
        "archivotxt = open(\"datos.txt\", \"r\")\n",
        "linea = archivotxt.readline()\n",
        "while linea != \"\":\n",
        "    print(linea, end = \"\")\n",
        "    linea = archivotxt.readline()\n",
        "archivotxt.close()"
      ],
      "metadata": {
        "id": "34gIhefhryes"
      },
      "execution_count": null,
      "outputs": []
    },
    {
      "cell_type": "code",
      "source": [
        "archivotxt = open('datos.txt', 'r')\n",
        "lineas = archivotxt.readlines()\n",
        "print('El archivo tiene:', len(lineas), 'lineas')\n",
        "print('El contenido del archivo:')\n",
        "for linea in lineas:\n",
        "    print(linea, end = \"\")\n",
        "archivotxt.close()"
      ],
      "metadata": {
        "id": "ibJXuadgr1iN"
      },
      "execution_count": null,
      "outputs": []
    },
    {
      "cell_type": "code",
      "source": [
        "archivo = open('datos.txt', 'a')\n",
        "archivo.write('Linea Nueva 1\\n')\n",
        "archivo.write('Linea nueva 2\\n')\n",
        "archivo.close()\n",
        "\n",
        "archivo = open('datos.txt', 'r')\n",
        "contenido = archivo.read()\n",
        "print(contenido)\n",
        "archivo.close()"
      ],
      "metadata": {
        "id": "Kx8qvUrgr48x"
      },
      "execution_count": null,
      "outputs": []
    },
    {
      "cell_type": "code",
      "source": [
        "archivotxt = open('datos.txt', 'r')\n",
        "for linea in archivotxt:\n",
        "    print(linea, end = \"\")\n",
        "archivotxt.close()"
      ],
      "metadata": {
        "id": "dgNMsuDCr-QW"
      },
      "execution_count": null,
      "outputs": []
    }
  ]
}